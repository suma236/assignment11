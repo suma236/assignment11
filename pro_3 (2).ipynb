{
  "nbformat": 4,
  "nbformat_minor": 0,
  "metadata": {
    "colab": {
      "name": "pro 3.ipynb",
      "provenance": []
    },
    "kernelspec": {
      "name": "python3",
      "display_name": "Python 3"
    }
  },
  "cells": [
    {
      "cell_type": "code",
      "metadata": {
        "id": "lGnaKNNG1z_T",
        "colab_type": "code",
        "colab": {}
      },
      "source": [
        "file=open(\"gfg.txt\",\"r\")\n",
        "count=0\n",
        "content=file.read()\n",
        "colist=content.split(\"\\n\")\n",
        "for i in colist:\n",
        "        if i:\n",
        "            counter+=1\n",
        "print(\"this is number of lines in the file\")\n",
        "print(count)"
      ],
      "execution_count": null,
      "outputs": []
    }
  ]
}