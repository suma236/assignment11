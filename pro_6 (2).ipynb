{
  "nbformat": 4,
  "nbformat_minor": 0,
  "metadata": {
    "colab": {
      "name": "pro 6.ipynb",
      "provenance": []
    },
    "kernelspec": {
      "name": "python3",
      "display_name": "Python 3"
    }
  },
  "cells": [
    {
      "cell_type": "code",
      "metadata": {
        "id": "6XE9y3e72g6-",
        "colab_type": "code",
        "colab": {}
      },
      "source": [
        "def file_size(fname):\n",
        "    import os\n",
        "    startinfo=os.start(fname)\n",
        "    return startinfo.st_size\n",
        "print(\"file size in bytes of a plain file:\", file_size(\"test.txt\"))"
      ],
      "execution_count": null,
      "outputs": []
    }
  ]
}