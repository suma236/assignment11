{
  "nbformat": 4,
  "nbformat_minor": 0,
  "metadata": {
    "colab": {
      "name": "pro 1.ipynb",
      "provenance": []
    },
    "kernelspec": {
      "name": "python3",
      "display_name": "Python 3"
    }
  },
  "cells": [
    {
      "cell_type": "code",
      "metadata": {
        "id": "ulfqK55d09BY",
        "colab_type": "code",
        "colab": {
          "base_uri": "https://localhost:8080/",
          "height": 50
        },
        "outputId": "22ba192d-9a40-4ded-cc5d-6a0e69739b1e"
      },
      "source": [
        "def file_read(fname):\n",
        "    from itertools import islice\n",
        "    with open(fname,\"w\") as myfile:\n",
        "        myfile.write(\"python exercises\\n\")\n",
        "        myfile.write(\"java exercises\")\n",
        "    txt=open(fname)\n",
        "    print(txt.read())\n",
        "file_read('abc.txt')"
      ],
      "execution_count": 1,
      "outputs": [
        {
          "output_type": "stream",
          "text": [
            "python exercises\n",
            "java exercises\n"
          ],
          "name": "stdout"
        }
      ]
    }
  ]
}