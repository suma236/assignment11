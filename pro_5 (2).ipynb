{
  "nbformat": 4,
  "nbformat_minor": 0,
  "metadata": {
    "colab": {
      "name": "pro 5.ipynb",
      "provenance": []
    },
    "kernelspec": {
      "name": "python3",
      "display_name": "Python 3"
    }
  },
  "cells": [
    {
      "cell_type": "code",
      "metadata": {
        "id": "lWF7sIGQ2SlB",
        "colab_type": "code",
        "colab": {}
      },
      "source": [
        "def file_read(fname):\n",
        "    with open(fname, \"r\") as myfile:\n",
        "        data=myfile.readlines()\n",
        "        print(data)\n",
        "file_read('text.txt')"
      ],
      "execution_count": null,
      "outputs": []
    }
  ]
}