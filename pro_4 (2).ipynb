{
  "nbformat": 4,
  "nbformat_minor": 0,
  "metadata": {
    "colab": {
      "name": "pro 4.ipynb",
      "provenance": []
    },
    "kernelspec": {
      "name": "python3",
      "display_name": "Python 3"
    }
  },
  "cells": [
    {
      "cell_type": "code",
      "metadata": {
        "id": "yShF9A6-14_1",
        "colab_type": "code",
        "colab": {
          "base_uri": "https://localhost:8080/",
          "height": 118
        },
        "outputId": "23d079d6-73b6-4b75-8be0-d0d1d5bf5f62"
      },
      "source": [
        "f=open(\"filename1.txt\",\"w\")\n",
        "f.write(\"line number is 1\\n\")\n",
        "f.write(\"line number is 2\\n\")\n",
        "f.write(\"line number is 3\\n\")\n",
        "f.write(\"line number is 4\\n\")\n",
        "f.write(\"line number is 5\\n\")\n",
        "f.write(\"line number is 6\\n\")\n",
        "f.write(\"line number is 7\\n\")\n",
        "f.close()\n",
        "a_file=open(\"filename1.txt\")\n",
        "number_of_lines=3\n",
        "for i in range(number_of_lines):\n",
        "    line=a_file.readline()\n",
        "    print(line)"
      ],
      "execution_count": 5,
      "outputs": [
        {
          "output_type": "stream",
          "text": [
            "line number is 1\n",
            "\n",
            "line number is 2\n",
            "\n",
            "line number is 3\n",
            "\n"
          ],
          "name": "stdout"
        }
      ]
    }
  ]
}