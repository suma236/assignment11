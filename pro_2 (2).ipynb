{
  "nbformat": 4,
  "nbformat_minor": 0,
  "metadata": {
    "colab": {
      "name": "pro 2.ipynb",
      "provenance": []
    },
    "kernelspec": {
      "name": "python3",
      "display_name": "Python 3"
    }
  },
  "cells": [
    {
      "cell_type": "code",
      "metadata": {
        "id": "8HkknAgl1YnK",
        "colab_type": "code",
        "colab": {}
      },
      "source": [
        "with open(\"hello.txt\")as f:\n",
        "with open(\"copy.txt\",\"w\") as f1:\n",
        "    for line in f:\n",
        "        f1.write(line)"
      ],
      "execution_count": null,
      "outputs": []
    }
  ]
}